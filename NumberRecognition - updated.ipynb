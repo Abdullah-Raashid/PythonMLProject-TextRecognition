{
 "cells": [
  {
   "cell_type": "markdown",
   "id": "eadf7222",
   "metadata": {},
   "source": [
    "## Fetching Dataset and preprocessing"
   ]
  },
  {
   "cell_type": "code",
   "execution_count": 1,
   "id": "db14c982",
   "metadata": {
    "scrolled": true
   },
   "outputs": [],
   "source": [
    "import tensorflow as tf\n",
    "from tensorflow import keras\n",
    "from keras.datasets import mnist\n",
    "import matplotlib.pyplot as plt\n",
    "import numpy as np\n",
    "from keras.models import Sequential\n",
    "from keras.layers import Dense, Conv2D, MaxPool2D, Flatten, Dropout"
   ]
  },
  {
   "cell_type": "code",
   "execution_count": 2,
   "id": "ce32f4f8",
   "metadata": {},
   "outputs": [],
   "source": [
    "(X_train, y_train), (X_test, y_test)= mnist.load_data()\n",
    "# print (X_train.shape, y_train.shape, X_test.shape, y_train.shape)"
   ]
  },
  {
   "cell_type": "code",
   "execution_count": 3,
   "id": "6e754e32",
   "metadata": {},
   "outputs": [],
   "source": [
    "def plot_input_img(i):\n",
    "    plt.imshow(X_train[i], cmap = 'binary')\n",
    "    plt.title(y_train[i])"
   ]
  },
  {
   "cell_type": "code",
   "execution_count": 4,
   "id": "5115b680",
   "metadata": {},
   "outputs": [
    {
     "data": {
      "image/png": "[encoded data removed]",
      "text/plain": [
       "<Figure size 640x480 with 1 Axes>"
      ]
     },
     "metadata": {},
     "output_type": "display_data"
    }
   ],
   "source": [
    "for i in range(10):\n",
    "    plot_input_img(i)"
   ]
  },
  {
   "cell_type": "code",
   "execution_count": 5,
   "id": "bb5401e9",
   "metadata": {},
   "outputs": [],
   "source": [
    "# Preprocess the data\n",
    "\n",
    "#Normalizing the image to [0,1] range\n",
    "X_train = X_train.astype(np.float32)/255\n",
    "X_test = X_test.astype(np.float32)/255\n",
    "\n",
    "# Reshape / expand the dimensions of images to (28,28,1)\n",
    "X_train = np.expand_dims(X_train, -1)\n",
    "X_test = np.expand_dims(X_test, -1)\n",
    "\n",
    "# convert classes to one hot vectors\n",
    "y_train = keras.utils.to_categorical(y_train)\n",
    "y_test = keras.utils.to_categorical(y_test)"
   ]
  },
  {
   "cell_type": "markdown",
   "id": "14515b21-1389-4f24-bb1c-645e456e2a57",
   "metadata": {},
   "source": [
    "## Build the Model"
   ]
  },
  {
   "cell_type": "code",
   "execution_count": 9,
   "id": "1ec2b0ee",
   "metadata": {},
   "outputs": [],
   "source": [
    "# Build the model\n",
    "model = Sequential()\n",
    "\n",
    "#input layer: first convolution layer\n",
    "model.add(Conv2D(32,(3,3),input_shape =(28,28,1), activation='relu'))\n",
    "model.add(MaxPool2D((2,2)))\n",
    "\n",
    "# second convolution layer\n",
    "model.add(Conv2D(64,(3,3), activation='relu'))\n",
    "model.add(MaxPool2D((2,2)))\n",
    "\n",
    "model.add(Flatten())\n",
    "\n",
    "# preventing overfitting\n",
    "model.add(Dropout(0.25))\n",
    "\n",
    "#classification layer\n",
    "model.add(Dense(10, activation=\"softmax\"))"
   ]
  },
  {
   "cell_type": "code",
   "execution_count": 10,
   "id": "19f1b99b",
   "metadata": {},
   "outputs": [
    {
     "name": "stdout",
     "output_type": "stream",
     "text": [
      "Model: \"sequential\"\n",
      "_________________________________________________________________\n",
      " Layer (type)                Output Shape              Param #   \n",
      "=================================================================\n",
      " conv2d (Conv2D)             (None, 26, 26, 32)        320       \n",
      "                                                                 \n",
      " max_pooling2d (MaxPooling2D  (None, 13, 13, 32)       0         \n",
      " )                                                               \n",
      "                                                                 \n",
      " conv2d_1 (Conv2D)           (None, 11, 11, 64)        18496     \n",
      "                                                                 \n",
      " max_pooling2d_1 (MaxPooling  (None, 5, 5, 64)         0         \n",
      " 2D)                                                             \n",
      "                                                                 \n",
      " flatten (Flatten)           (None, 1600)              0         \n",
      "                                                                 \n",
      " dropout (Dropout)           (None, 1600)              0         \n",
      "                                                                 \n",
      " dense (Dense)               (None, 10)                16010     \n",
      "                                                                 \n",
      "=================================================================\n",
      "Total params: 34,826\n",
      "Trainable params: 34,826\n",
      "Non-trainable params: 0\n",
      "_________________________________________________________________\n"
     ]
    }
   ],
   "source": [
    "model.summary()"
   ]
  },
  {
   "cell_type": "code",
   "execution_count": 11,
   "id": "2939143e",
   "metadata": {},
   "outputs": [],
   "source": [
    "model.compile(optimizer='adam', loss = keras.losses.categorical_crossentropy, metrics=['accuracy'])"
   ]
  },
  {
   "cell_type": "code",
   "execution_count": 21,
   "id": "ab8b2726",
   "metadata": {},
   "outputs": [],
   "source": [
    "# Callbacks\n",
    "\n",
    "from keras.callbacks import EarlyStopping, ModelCheckpoint\n",
    "\n",
    "# Earlystopping\n",
    "\n",
    "es=EarlyStopping(monitor='val_acc', min_delta=0.01, patience=4, verbose=1)\n",
    "\n",
    "# Model Check Point\n",
    "checkpoint_filepath = '/Users/abdullahraashid/Documents/PythonML/DigitRecognition/savedmodel.h5'\n",
    "\n",
    "mc = ModelCheckpoint(checkpoint_filepath, monitor = \"val_acc\", verbose = 1, save_best_only=True)\n",
    "\n",
    "# callback\n",
    "cb = [es,mc]"
   ]
  },
  {
   "cell_type": "markdown",
   "id": "5bf3143f-3adf-47d4-920f-d8f120e68229",
   "metadata": {},
   "source": [
    "## Model Training"
   ]
  },
  {
   "cell_type": "code",
   "execution_count": 22,
   "id": "e02e1b18-7192-431d-b268-c8e907477257",
   "metadata": {},
   "outputs": [
    {
     "name": "stdout",
     "output_type": "stream",
     "text": [
      "Epoch 1/50\n",
      "1118/1125 [============================>.] - ETA: 0s - loss: 0.0022 - accuracy: 0.9994WARNING:tensorflow:Early stopping conditioned on metric `val_acc` which is not available. Available metrics are: loss,accuracy,val_loss,val_accuracy\n",
      "WARNING:tensorflow:Can save best model only with val_acc available, skipping.\n",
      "1125/1125 [==============================] - 9s 8ms/step - loss: 0.0021 - accuracy: 0.9994 - val_loss: 0.0963 - val_accuracy: 0.9894\n",
      "Epoch 2/50\n",
      "1121/1125 [============================>.] - ETA: 0s - loss: 0.0021 - accuracy: 0.9993WARNING:tensorflow:Early stopping conditioned on metric `val_acc` which is not available. Available metrics are: loss,accuracy,val_loss,val_accuracy\n",
      "WARNING:tensorflow:Can save best model only with val_acc available, skipping.\n",
      "1125/1125 [==============================] - 14s 12ms/step - loss: 0.0021 - accuracy: 0.9993 - val_loss: 0.1034 - val_accuracy: 0.9902\n",
      "Epoch 3/50\n",
      "1123/1125 [============================>.] - ETA: 0s - loss: 0.0035 - accuracy: 0.9992WARNING:tensorflow:Early stopping conditioned on metric `val_acc` which is not available. Available metrics are: loss,accuracy,val_loss,val_accuracy\n",
      "WARNING:tensorflow:Can save best model only with val_acc available, skipping.\n",
      "1125/1125 [==============================] - 9s 8ms/step - loss: 0.0035 - accuracy: 0.9992 - val_loss: 0.1104 - val_accuracy: 0.9890\n",
      "Epoch 4/50\n",
      "1122/1125 [============================>.] - ETA: 0s - loss: 0.0035 - accuracy: 0.9988WARNING:tensorflow:Early stopping conditioned on metric `val_acc` which is not available. Available metrics are: loss,accuracy,val_loss,val_accuracy\n",
      "WARNING:tensorflow:Can save best model only with val_acc available, skipping.\n",
      "1125/1125 [==============================] - 9s 8ms/step - loss: 0.0035 - accuracy: 0.9988 - val_loss: 0.1040 - val_accuracy: 0.9900\n",
      "Epoch 5/50\n",
      "1123/1125 [============================>.] - ETA: 0s - loss: 0.0028 - accuracy: 0.9993WARNING:tensorflow:Early stopping conditioned on metric `val_acc` which is not available. Available metrics are: loss,accuracy,val_loss,val_accuracy\n",
      "WARNING:tensorflow:Can save best model only with val_acc available, skipping.\n",
      "1125/1125 [==============================] - 11s 10ms/step - loss: 0.0028 - accuracy: 0.9993 - val_loss: 0.0875 - val_accuracy: 0.9899\n",
      "Epoch 6/50\n",
      "1121/1125 [============================>.] - ETA: 0s - loss: 0.0038 - accuracy: 0.9989WARNING:tensorflow:Early stopping conditioned on metric `val_acc` which is not available. Available metrics are: loss,accuracy,val_loss,val_accuracy\n",
      "WARNING:tensorflow:Can save best model only with val_acc available, skipping.\n",
      "1125/1125 [==============================] - 9s 8ms/step - loss: 0.0037 - accuracy: 0.9989 - val_loss: 0.0882 - val_accuracy: 0.9900\n",
      "Epoch 7/50\n",
      "1120/1125 [============================>.] - ETA: 0s - loss: 0.0023 - accuracy: 0.9991WARNING:tensorflow:Early stopping conditioned on metric `val_acc` which is not available. Available metrics are: loss,accuracy,val_loss,val_accuracy\n",
      "WARNING:tensorflow:Can save best model only with val_acc available, skipping.\n",
      "1125/1125 [==============================] - 9s 8ms/step - loss: 0.0023 - accuracy: 0.9991 - val_loss: 0.0946 - val_accuracy: 0.9901\n",
      "Epoch 8/50\n",
      "1121/1125 [============================>.] - ETA: 0s - loss: 0.0025 - accuracy: 0.9992WARNING:tensorflow:Early stopping conditioned on metric `val_acc` which is not available. Available metrics are: loss,accuracy,val_loss,val_accuracy\n",
      "WARNING:tensorflow:Can save best model only with val_acc available, skipping.\n",
      "1125/1125 [==============================] - 11s 10ms/step - loss: 0.0025 - accuracy: 0.9992 - val_loss: 0.0994 - val_accuracy: 0.9900\n",
      "Epoch 9/50\n",
      "1120/1125 [============================>.] - ETA: 0s - loss: 0.0038 - accuracy: 0.9991WARNING:tensorflow:Early stopping conditioned on metric `val_acc` which is not available. Available metrics are: loss,accuracy,val_loss,val_accuracy\n",
      "WARNING:tensorflow:Can save best model only with val_acc available, skipping.\n",
      "1125/1125 [==============================] - 10s 9ms/step - loss: 0.0038 - accuracy: 0.9991 - val_loss: 0.0986 - val_accuracy: 0.9902\n",
      "Epoch 10/50\n",
      "1122/1125 [============================>.] - ETA: 0s - loss: 0.0029 - accuracy: 0.9992WARNING:tensorflow:Early stopping conditioned on metric `val_acc` which is not available. Available metrics are: loss,accuracy,val_loss,val_accuracy\n",
      "WARNING:tensorflow:Can save best model only with val_acc available, skipping.\n",
      "1125/1125 [==============================] - 8s 7ms/step - loss: 0.0029 - accuracy: 0.9992 - val_loss: 0.0973 - val_accuracy: 0.9908\n",
      "Epoch 11/50\n",
      "1121/1125 [============================>.] - ETA: 0s - loss: 0.0020 - accuracy: 0.9994WARNING:tensorflow:Early stopping conditioned on metric `val_acc` which is not available. Available metrics are: loss,accuracy,val_loss,val_accuracy\n",
      "WARNING:tensorflow:Can save best model only with val_acc available, skipping.\n",
      "1125/1125 [==============================] - 12s 11ms/step - loss: 0.0020 - accuracy: 0.9994 - val_loss: 0.0950 - val_accuracy: 0.9903\n",
      "Epoch 12/50\n",
      "1124/1125 [============================>.] - ETA: 0s - loss: 0.0042 - accuracy: 0.9991WARNING:tensorflow:Early stopping conditioned on metric `val_acc` which is not available. Available metrics are: loss,accuracy,val_loss,val_accuracy\n",
      "WARNING:tensorflow:Can save best model only with val_acc available, skipping.\n",
      "1125/1125 [==============================] - 10s 9ms/step - loss: 0.0042 - accuracy: 0.9991 - val_loss: 0.0987 - val_accuracy: 0.9908\n",
      "Epoch 13/50\n",
      "1125/1125 [==============================] - ETA: 0s - loss: 0.0037 - accuracy: 0.9991WARNING:tensorflow:Early stopping conditioned on metric `val_acc` which is not available. Available metrics are: loss,accuracy,val_loss,val_accuracy\n",
      "WARNING:tensorflow:Can save best model only with val_acc available, skipping.\n",
      "1125/1125 [==============================] - 10s 9ms/step - loss: 0.0037 - accuracy: 0.9991 - val_loss: 0.1022 - val_accuracy: 0.9897\n",
      "Epoch 14/50\n",
      "1117/1125 [============================>.] - ETA: 0s - loss: 0.0025 - accuracy: 0.9992WARNING:tensorflow:Early stopping conditioned on metric `val_acc` which is not available. Available metrics are: loss,accuracy,val_loss,val_accuracy\n",
      "WARNING:tensorflow:Can save best model only with val_acc available, skipping.\n",
      "1125/1125 [==============================] - 10s 9ms/step - loss: 0.0025 - accuracy: 0.9992 - val_loss: 0.1108 - val_accuracy: 0.9895\n",
      "Epoch 15/50\n",
      "1119/1125 [============================>.] - ETA: 0s - loss: 0.0024 - accuracy: 0.9992WARNING:tensorflow:Early stopping conditioned on metric `val_acc` which is not available. Available metrics are: loss,accuracy,val_loss,val_accuracy\n",
      "WARNING:tensorflow:Can save best model only with val_acc available, skipping.\n",
      "1125/1125 [==============================] - 8s 7ms/step - loss: 0.0024 - accuracy: 0.9992 - val_loss: 0.1036 - val_accuracy: 0.9900\n",
      "Epoch 16/50\n",
      "1124/1125 [============================>.] - ETA: 0s - loss: 0.0025 - accuracy: 0.9994WARNING:tensorflow:Early stopping conditioned on metric `val_acc` which is not available. Available metrics are: loss,accuracy,val_loss,val_accuracy\n",
      "WARNING:tensorflow:Can save best model only with val_acc available, skipping.\n",
      "1125/1125 [==============================] - 8s 7ms/step - loss: 0.0025 - accuracy: 0.9994 - val_loss: 0.1044 - val_accuracy: 0.9896\n",
      "Epoch 17/50\n",
      "1117/1125 [============================>.] - ETA: 0s - loss: 0.0030 - accuracy: 0.9993WARNING:tensorflow:Early stopping conditioned on metric `val_acc` which is not available. Available metrics are: loss,accuracy,val_loss,val_accuracy\n",
      "WARNING:tensorflow:Can save best model only with val_acc available, skipping.\n",
      "1125/1125 [==============================] - 9s 8ms/step - loss: 0.0030 - accuracy: 0.9993 - val_loss: 0.1005 - val_accuracy: 0.9906\n",
      "Epoch 18/50\n",
      "1118/1125 [============================>.] - ETA: 0s - loss: 0.0038 - accuracy: 0.9991WARNING:tensorflow:Early stopping conditioned on metric `val_acc` which is not available. Available metrics are: loss,accuracy,val_loss,val_accuracy\n",
      "WARNING:tensorflow:Can save best model only with val_acc available, skipping.\n",
      "1125/1125 [==============================] - 9s 8ms/step - loss: 0.0038 - accuracy: 0.9991 - val_loss: 0.1168 - val_accuracy: 0.9893\n",
      "Epoch 19/50\n",
      "1125/1125 [==============================] - ETA: 0s - loss: 0.0032 - accuracy: 0.9991WARNING:tensorflow:Early stopping conditioned on metric `val_acc` which is not available. Available metrics are: loss,accuracy,val_loss,val_accuracy\n",
      "WARNING:tensorflow:Can save best model only with val_acc available, skipping.\n",
      "1125/1125 [==============================] - 9s 8ms/step - loss: 0.0032 - accuracy: 0.9991 - val_loss: 0.1063 - val_accuracy: 0.9898\n",
      "Epoch 20/50\n",
      "1125/1125 [==============================] - ETA: 0s - loss: 0.0033 - accuracy: 0.9990WARNING:tensorflow:Early stopping conditioned on metric `val_acc` which is not available. Available metrics are: loss,accuracy,val_loss,val_accuracy\n",
      "WARNING:tensorflow:Can save best model only with val_acc available, skipping.\n",
      "1125/1125 [==============================] - 10s 8ms/step - loss: 0.0033 - accuracy: 0.9990 - val_loss: 0.1049 - val_accuracy: 0.9899\n",
      "Epoch 21/50\n",
      "1121/1125 [============================>.] - ETA: 0s - loss: 0.0030 - accuracy: 0.9992WARNING:tensorflow:Early stopping conditioned on metric `val_acc` which is not available. Available metrics are: loss,accuracy,val_loss,val_accuracy\n",
      "WARNING:tensorflow:Can save best model only with val_acc available, skipping.\n",
      "1125/1125 [==============================] - 9s 8ms/step - loss: 0.0030 - accuracy: 0.9992 - val_loss: 0.0964 - val_accuracy: 0.9901\n",
      "Epoch 22/50\n",
      "1119/1125 [============================>.] - ETA: 0s - loss: 0.0025 - accuracy: 0.9992WARNING:tensorflow:Early stopping conditioned on metric `val_acc` which is not available. Available metrics are: loss,accuracy,val_loss,val_accuracy\n",
      "WARNING:tensorflow:Can save best model only with val_acc available, skipping.\n",
      "1125/1125 [==============================] - 9s 8ms/step - loss: 0.0025 - accuracy: 0.9992 - val_loss: 0.1009 - val_accuracy: 0.9895\n",
      "Epoch 23/50\n",
      "1123/1125 [============================>.] - ETA: 0s - loss: 0.0025 - accuracy: 0.9993WARNING:tensorflow:Early stopping conditioned on metric `val_acc` which is not available. Available metrics are: loss,accuracy,val_loss,val_accuracy\n",
      "WARNING:tensorflow:Can save best model only with val_acc available, skipping.\n",
      "1125/1125 [==============================] - 9s 8ms/step - loss: 0.0025 - accuracy: 0.9993 - val_loss: 0.1042 - val_accuracy: 0.9902\n",
      "Epoch 24/50\n",
      "1120/1125 [============================>.] - ETA: 0s - loss: 0.0026 - accuracy: 0.9991WARNING:tensorflow:Early stopping conditioned on metric `val_acc` which is not available. Available metrics are: loss,accuracy,val_loss,val_accuracy\n",
      "WARNING:tensorflow:Can save best model only with val_acc available, skipping.\n",
      "1125/1125 [==============================] - 9s 8ms/step - loss: 0.0025 - accuracy: 0.9991 - val_loss: 0.1034 - val_accuracy: 0.9906\n",
      "Epoch 25/50\n",
      "1117/1125 [============================>.] - ETA: 0s - loss: 0.0021 - accuracy: 0.9994WARNING:tensorflow:Early stopping conditioned on metric `val_acc` which is not available. Available metrics are: loss,accuracy,val_loss,val_accuracy\n",
      "WARNING:tensorflow:Can save best model only with val_acc available, skipping.\n",
      "1125/1125 [==============================] - 10s 9ms/step - loss: 0.0021 - accuracy: 0.9994 - val_loss: 0.0929 - val_accuracy: 0.9906\n",
      "Epoch 26/50\n",
      "1122/1125 [============================>.] - ETA: 0s - loss: 0.0033 - accuracy: 0.9990WARNING:tensorflow:Early stopping conditioned on metric `val_acc` which is not available. Available metrics are: loss,accuracy,val_loss,val_accuracy\n",
      "WARNING:tensorflow:Can save best model only with val_acc available, skipping.\n",
      "1125/1125 [==============================] - 11s 10ms/step - loss: 0.0033 - accuracy: 0.9990 - val_loss: 0.1046 - val_accuracy: 0.9904\n",
      "Epoch 27/50\n",
      "1122/1125 [============================>.] - ETA: 0s - loss: 0.0026 - accuracy: 0.9994WARNING:tensorflow:Early stopping conditioned on metric `val_acc` which is not available. Available metrics are: loss,accuracy,val_loss,val_accuracy\n",
      "WARNING:tensorflow:Can save best model only with val_acc available, skipping.\n",
      "1125/1125 [==============================] - 12s 11ms/step - loss: 0.0026 - accuracy: 0.9994 - val_loss: 0.1045 - val_accuracy: 0.9905\n",
      "Epoch 28/50\n",
      "1119/1125 [============================>.] - ETA: 0s - loss: 0.0032 - accuracy: 0.9992WARNING:tensorflow:Early stopping conditioned on metric `val_acc` which is not available. Available metrics are: loss,accuracy,val_loss,val_accuracy\n",
      "WARNING:tensorflow:Can save best model only with val_acc available, skipping.\n",
      "1125/1125 [==============================] - 11s 10ms/step - loss: 0.0031 - accuracy: 0.9992 - val_loss: 0.1027 - val_accuracy: 0.9903\n",
      "Epoch 29/50\n",
      "1119/1125 [============================>.] - ETA: 0s - loss: 0.0044 - accuracy: 0.9989WARNING:tensorflow:Early stopping conditioned on metric `val_acc` which is not available. Available metrics are: loss,accuracy,val_loss,val_accuracy\n",
      "WARNING:tensorflow:Can save best model only with val_acc available, skipping.\n",
      "1125/1125 [==============================] - 12s 11ms/step - loss: 0.0044 - accuracy: 0.9989 - val_loss: 0.0959 - val_accuracy: 0.9903\n",
      "Epoch 30/50\n",
      "1122/1125 [============================>.] - ETA: 0s - loss: 0.0033 - accuracy: 0.9992WARNING:tensorflow:Early stopping conditioned on metric `val_acc` which is not available. Available metrics are: loss,accuracy,val_loss,val_accuracy\n",
      "WARNING:tensorflow:Can save best model only with val_acc available, skipping.\n",
      "1125/1125 [==============================] - 16s 14ms/step - loss: 0.0033 - accuracy: 0.9992 - val_loss: 0.1044 - val_accuracy: 0.9892\n",
      "Epoch 31/50\n",
      "1120/1125 [============================>.] - ETA: 0s - loss: 0.0016 - accuracy: 0.9994WARNING:tensorflow:Early stopping conditioned on metric `val_acc` which is not available. Available metrics are: loss,accuracy,val_loss,val_accuracy\n",
      "WARNING:tensorflow:Can save best model only with val_acc available, skipping.\n",
      "1125/1125 [==============================] - 13s 11ms/step - loss: 0.0016 - accuracy: 0.9994 - val_loss: 0.0940 - val_accuracy: 0.9904\n",
      "Epoch 32/50\n",
      "1124/1125 [============================>.] - ETA: 0s - loss: 0.0029 - accuracy: 0.9993WARNING:tensorflow:Early stopping conditioned on metric `val_acc` which is not available. Available metrics are: loss,accuracy,val_loss,val_accuracy\n",
      "WARNING:tensorflow:Can save best model only with val_acc available, skipping.\n",
      "1125/1125 [==============================] - 14s 13ms/step - loss: 0.0029 - accuracy: 0.9993 - val_loss: 0.1125 - val_accuracy: 0.9898\n",
      "Epoch 33/50\n",
      "1125/1125 [==============================] - ETA: 0s - loss: 0.0029 - accuracy: 0.9991WARNING:tensorflow:Early stopping conditioned on metric `val_acc` which is not available. Available metrics are: loss,accuracy,val_loss,val_accuracy\n",
      "WARNING:tensorflow:Can save best model only with val_acc available, skipping.\n",
      "1125/1125 [==============================] - 12s 11ms/step - loss: 0.0029 - accuracy: 0.9991 - val_loss: 0.1151 - val_accuracy: 0.9893\n",
      "Epoch 34/50\n",
      "1120/1125 [============================>.] - ETA: 0s - loss: 0.0030 - accuracy: 0.9992WARNING:tensorflow:Early stopping conditioned on metric `val_acc` which is not available. Available metrics are: loss,accuracy,val_loss,val_accuracy\n",
      "WARNING:tensorflow:Can save best model only with val_acc available, skipping.\n",
      "1125/1125 [==============================] - 13s 12ms/step - loss: 0.0030 - accuracy: 0.9992 - val_loss: 0.1107 - val_accuracy: 0.9903\n",
      "Epoch 35/50\n",
      "1123/1125 [============================>.] - ETA: 0s - loss: 0.0019 - accuracy: 0.9994WARNING:tensorflow:Early stopping conditioned on metric `val_acc` which is not available. Available metrics are: loss,accuracy,val_loss,val_accuracy\n",
      "WARNING:tensorflow:Can save best model only with val_acc available, skipping.\n",
      "1125/1125 [==============================] - 11s 10ms/step - loss: 0.0019 - accuracy: 0.9994 - val_loss: 0.1059 - val_accuracy: 0.9899\n",
      "Epoch 36/50\n",
      "1123/1125 [============================>.] - ETA: 0s - loss: 0.0032 - accuracy: 0.9991WARNING:tensorflow:Early stopping conditioned on metric `val_acc` which is not available. Available metrics are: loss,accuracy,val_loss,val_accuracy\n",
      "WARNING:tensorflow:Can save best model only with val_acc available, skipping.\n",
      "1125/1125 [==============================] - 12s 10ms/step - loss: 0.0032 - accuracy: 0.9991 - val_loss: 0.1014 - val_accuracy: 0.9907\n",
      "Epoch 37/50\n",
      "1120/1125 [============================>.] - ETA: 0s - loss: 0.0029 - accuracy: 0.9993WARNING:tensorflow:Early stopping conditioned on metric `val_acc` which is not available. Available metrics are: loss,accuracy,val_loss,val_accuracy\n",
      "WARNING:tensorflow:Can save best model only with val_acc available, skipping.\n",
      "1125/1125 [==============================] - 14s 12ms/step - loss: 0.0029 - accuracy: 0.9993 - val_loss: 0.1290 - val_accuracy: 0.9884\n",
      "Epoch 38/50\n",
      "1121/1125 [============================>.] - ETA: 0s - loss: 0.0030 - accuracy: 0.9990WARNING:tensorflow:Early stopping conditioned on metric `val_acc` which is not available. Available metrics are: loss,accuracy,val_loss,val_accuracy\n",
      "WARNING:tensorflow:Can save best model only with val_acc available, skipping.\n",
      "1125/1125 [==============================] - 13s 12ms/step - loss: 0.0030 - accuracy: 0.9990 - val_loss: 0.1165 - val_accuracy: 0.9899\n",
      "Epoch 39/50\n",
      "1125/1125 [==============================] - ETA: 0s - loss: 0.0052 - accuracy: 0.9988WARNING:tensorflow:Early stopping conditioned on metric `val_acc` which is not available. Available metrics are: loss,accuracy,val_loss,val_accuracy\n",
      "WARNING:tensorflow:Can save best model only with val_acc available, skipping.\n",
      "1125/1125 [==============================] - 10s 9ms/step - loss: 0.0052 - accuracy: 0.9988 - val_loss: 0.0988 - val_accuracy: 0.9908\n",
      "Epoch 40/50\n",
      "1125/1125 [==============================] - ETA: 0s - loss: 0.0014 - accuracy: 0.9996WARNING:tensorflow:Early stopping conditioned on metric `val_acc` which is not available. Available metrics are: loss,accuracy,val_loss,val_accuracy\n",
      "WARNING:tensorflow:Can save best model only with val_acc available, skipping.\n",
      "1125/1125 [==============================] - 9s 8ms/step - loss: 0.0014 - accuracy: 0.9996 - val_loss: 0.0985 - val_accuracy: 0.9909\n",
      "Epoch 41/50\n",
      "1118/1125 [============================>.] - ETA: 0s - loss: 0.0046 - accuracy: 0.9990WARNING:tensorflow:Early stopping conditioned on metric `val_acc` which is not available. Available metrics are: loss,accuracy,val_loss,val_accuracy\n",
      "WARNING:tensorflow:Can save best model only with val_acc available, skipping.\n",
      "1125/1125 [==============================] - 9s 8ms/step - loss: 0.0046 - accuracy: 0.9990 - val_loss: 0.1018 - val_accuracy: 0.9894\n",
      "Epoch 42/50\n",
      "1124/1125 [============================>.] - ETA: 0s - loss: 0.0022 - accuracy: 0.9995WARNING:tensorflow:Early stopping conditioned on metric `val_acc` which is not available. Available metrics are: loss,accuracy,val_loss,val_accuracy\n",
      "WARNING:tensorflow:Can save best model only with val_acc available, skipping.\n",
      "1125/1125 [==============================] - 10s 9ms/step - loss: 0.0022 - accuracy: 0.9995 - val_loss: 0.1109 - val_accuracy: 0.9901\n",
      "Epoch 43/50\n",
      "1122/1125 [============================>.] - ETA: 0s - loss: 0.0018 - accuracy: 0.9994WARNING:tensorflow:Early stopping conditioned on metric `val_acc` which is not available. Available metrics are: loss,accuracy,val_loss,val_accuracy\n",
      "WARNING:tensorflow:Can save best model only with val_acc available, skipping.\n",
      "1125/1125 [==============================] - 9s 8ms/step - loss: 0.0018 - accuracy: 0.9994 - val_loss: 0.1308 - val_accuracy: 0.9892\n",
      "Epoch 44/50\n",
      "1121/1125 [============================>.] - ETA: 0s - loss: 0.0041 - accuracy: 0.9990WARNING:tensorflow:Early stopping conditioned on metric `val_acc` which is not available. Available metrics are: loss,accuracy,val_loss,val_accuracy\n",
      "WARNING:tensorflow:Can save best model only with val_acc available, skipping.\n",
      "1125/1125 [==============================] - 10s 9ms/step - loss: 0.0042 - accuracy: 0.9990 - val_loss: 0.1058 - val_accuracy: 0.9905\n",
      "Epoch 45/50\n",
      "1122/1125 [============================>.] - ETA: 0s - loss: 0.0024 - accuracy: 0.9993WARNING:tensorflow:Early stopping conditioned on metric `val_acc` which is not available. Available metrics are: loss,accuracy,val_loss,val_accuracy\n",
      "WARNING:tensorflow:Can save best model only with val_acc available, skipping.\n",
      "1125/1125 [==============================] - 11s 10ms/step - loss: 0.0024 - accuracy: 0.9993 - val_loss: 0.1215 - val_accuracy: 0.9897\n",
      "Epoch 46/50\n",
      "1120/1125 [============================>.] - ETA: 0s - loss: 0.0038 - accuracy: 0.9992WARNING:tensorflow:Early stopping conditioned on metric `val_acc` which is not available. Available metrics are: loss,accuracy,val_loss,val_accuracy\n",
      "WARNING:tensorflow:Can save best model only with val_acc available, skipping.\n",
      "1125/1125 [==============================] - 10s 9ms/step - loss: 0.0038 - accuracy: 0.9992 - val_loss: 0.1085 - val_accuracy: 0.9907\n",
      "Epoch 47/50\n",
      "1121/1125 [============================>.] - ETA: 0s - loss: 0.0022 - accuracy: 0.9993WARNING:tensorflow:Early stopping conditioned on metric `val_acc` which is not available. Available metrics are: loss,accuracy,val_loss,val_accuracy\n",
      "WARNING:tensorflow:Can save best model only with val_acc available, skipping.\n",
      "1125/1125 [==============================] - 9s 8ms/step - loss: 0.0022 - accuracy: 0.9993 - val_loss: 0.1117 - val_accuracy: 0.9907\n",
      "Epoch 48/50\n",
      "1118/1125 [============================>.] - ETA: 0s - loss: 0.0027 - accuracy: 0.9994WARNING:tensorflow:Early stopping conditioned on metric `val_acc` which is not available. Available metrics are: loss,accuracy,val_loss,val_accuracy\n",
      "WARNING:tensorflow:Can save best model only with val_acc available, skipping.\n",
      "1125/1125 [==============================] - 9s 8ms/step - loss: 0.0027 - accuracy: 0.9994 - val_loss: 0.1057 - val_accuracy: 0.9908\n",
      "Epoch 49/50\n",
      "1123/1125 [============================>.] - ETA: 0s - loss: 0.0031 - accuracy: 0.9993WARNING:tensorflow:Early stopping conditioned on metric `val_acc` which is not available. Available metrics are: loss,accuracy,val_loss,val_accuracy\n",
      "WARNING:tensorflow:Can save best model only with val_acc available, skipping.\n",
      "1125/1125 [==============================] - 10s 9ms/step - loss: 0.0031 - accuracy: 0.9993 - val_loss: 0.0920 - val_accuracy: 0.9905\n",
      "Epoch 50/50\n",
      "1119/1125 [============================>.] - ETA: 0s - loss: 0.0023 - accuracy: 0.9993WARNING:tensorflow:Early stopping conditioned on metric `val_acc` which is not available. Available metrics are: loss,accuracy,val_loss,val_accuracy\n",
      "WARNING:tensorflow:Can save best model only with val_acc available, skipping.\n",
      "1125/1125 [==============================] - 10s 8ms/step - loss: 0.0023 - accuracy: 0.9993 - val_loss: 0.0980 - val_accuracy: 0.9904\n"
     ]
    }
   ],
   "source": [
    "his = model.fit(X_train, y_train, epochs=50, validation_split = 0.4, callbacks=cb)"
   ]
  },
  {
   "cell_type": "code",
   "execution_count": 25,
   "id": "1db4a804-aef5-4d88-95a0-7db1fd80a058",
   "metadata": {
    "scrolled": true
   },
   "outputs": [],
   "source": [
    "#save the model\n",
    "model.save('savemodel.h5')\n",
    "model_S = keras.models.load_model(\"/Users/abdullahraashid/Documents/PythonML/DigitRecognition/savemodel.h5\")"
   ]
  },
  {
   "cell_type": "markdown",
   "id": "beb4759f-a0ee-4f51-9ce6-c92a0b1311da",
   "metadata": {},
   "source": [
    "## Evaluate the model"
   ]
  },
  {
   "cell_type": "code",
   "execution_count": 27,
   "id": "cff9d8f1-4b81-4c2d-8677-9f6ebff01931",
   "metadata": {},
   "outputs": [
    {
     "name": "stdout",
     "output_type": "stream",
     "text": [
      "313/313 [==============================] - 1s 2ms/step - loss: 0.0815 - accuracy: 0.9908\n",
      "the model accuracy is 0.9908000230789185 \n"
     ]
    }
   ],
   "source": [
    "score = model_S.evaluate(X_test, y_test)\n",
    "\n",
    "print(f\"the model accuracy is {score[1]} \") # the model accuracy is 0.9908000230789185 and the loss is 0.0815 which is negligible"
   ]
  }
 ],
 "metadata": {
  "kernelspec": {
   "display_name": "Python 3 (ipykernel)",
   "language": "python",
   "name": "python3"
  },
  "language_info": {
   "codemirror_mode": {
    "name": "ipython",
    "version": 3
   },
   "file_extension": ".py",
   "mimetype": "text/x-python",
   "name": "python",
   "nbconvert_exporter": "python",
   "pygments_lexer": "ipython3",
   "version": "3.10.13"
  }
 },
 "nbformat": 4,
 "nbformat_minor": 5
}
